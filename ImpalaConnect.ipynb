{
 "cells": [
  {
   "cell_type": "code",
   "execution_count": 1,
   "metadata": {},
   "outputs": [],
   "source": [
    "import pyodbc\n",
    "import numpy as np\n",
    "import pandas as pd\n",
    "from impala.util import as_pandas"
   ]
  },
  {
   "cell_type": "code",
   "execution_count": null,
   "metadata": {},
   "outputs": [],
   "source": [
    "conn = pyodbc.connect(\n",
    "        \"\"\"DRIVER={Cloudera ODBC Driver for Impala};\n",
    "        UID={*****};\n",
    "        UseSQLUnicodeTypes=0;\n",
    "        UseSASL=1;\n",
    "        UseOnlySSPI_DSN-less=0;\n",
    "        UseOnlySSPI=0;\n",
    "        UseNativeQuery=0;\n",
    "        UseKeytab=0;\n",
    "        TSaslTransportBufSize=1000;\n",
    "        StringColumnLength=32767;\n",
    "        SSL=0;SocketTimeout=60;RowsFetchedPerBlock=1000;Port=21050;\n",
    "\n",
    "        Host=*****;\n",
    "        PWD=*****;\n",
    "        EnableSimulatedTransactions=0;AuthMech=3\"\"\",\n",
    "        autocommit=True)\n",
    "\n",
    "# Insert your UID, PWD and Host"
   ]
  },
  {
   "cell_type": "code",
   "execution_count": null,
   "metadata": {},
   "outputs": [],
   "source": [
    "# Create cursor\n",
    "cur = conn.cursor()\n",
    "# query string to execute\n",
    "query = \"\"\"select * from table1\"\"\"\n",
    "\n",
    "# execute query\n",
    "for i in range(5):\n",
    "    try:\n",
    "        cur.execute(query)\n",
    "    except Exception:\n",
    "        if i == (n-1):\n",
    "            print(\"Query execute error\")\n",
    "        pass\n",
    "    else:\n",
    "        break"
   ]
  },
  {
   "cell_type": "code",
   "execution_count": null,
   "metadata": {},
   "outputs": [],
   "source": [
    "# Load data into pandas dataframe\n",
    "df = as_pandas(cur)"
   ]
  }
 ],
 "metadata": {
  "kernelspec": {
   "display_name": "Python 3",
   "language": "python",
   "name": "python3"
  },
  "language_info": {
   "codemirror_mode": {
    "name": "ipython",
    "version": 3
   },
   "file_extension": ".py",
   "mimetype": "text/x-python",
   "name": "python",
   "nbconvert_exporter": "python",
   "pygments_lexer": "ipython3",
   "version": "3.6.4"
  }
 },
 "nbformat": 4,
 "nbformat_minor": 2
}
